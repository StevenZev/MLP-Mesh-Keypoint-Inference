{
 "cells": [
  {
   "cell_type": "code",
   "execution_count": 4,
   "id": "04912065",
   "metadata": {},
   "outputs": [],
   "source": [
    "import json\n",
    "import statistics\n",
    "from collections import Counter\n",
    "import os \n",
    "import shutil\n"
   ]
  },
  {
   "cell_type": "code",
   "execution_count": 5,
   "id": "1cd6d943",
   "metadata": {},
   "outputs": [],
   "source": [
    "# Load the JSON file\n",
    "def load_json(filepath):\n",
    "    with open(filepath, 'r') as f:\n",
    "        data = json.load(f)\n",
    "    return data\n",
    "\n",
    "# Compute statistics\n",
    "def compute_keypoint_statistics(data):\n",
    "    keypoint_counts = [len(model['keypoints']) for model in data]\n",
    "    \n",
    "    total_models = len(keypoint_counts)\n",
    "    total_keypoints = sum(keypoint_counts)\n",
    "    average_keypoints = statistics.mean(keypoint_counts) if keypoint_counts else 0\n",
    "    min_keypoints = min(keypoint_counts) if keypoint_counts else 0\n",
    "    max_keypoints = max(keypoint_counts) if keypoint_counts else 0\n",
    "    value_counts = Counter(keypoint_counts)\n",
    "    \n",
    "    stats = {\n",
    "        'Total models': total_models,\n",
    "        'Average keypoints per model': average_keypoints,\n",
    "        'Minimum keypoints in any model': min_keypoints,\n",
    "        'Maximum keypoints in any model': max_keypoints,\n",
    "        'Value counts': value_counts\n",
    "    }\n",
    "    \n",
    "    return stats"
   ]
  },
  {
   "cell_type": "code",
   "execution_count": 16,
   "id": "f5bccf98",
   "metadata": {},
   "outputs": [
    {
     "name": "stdout",
     "output_type": "stream",
     "text": [
      "Summary Statistics:\n",
      "Total models: 439\n",
      "Average keypoints per model: 6\n",
      "Minimum keypoints in any model: 6\n",
      "Maximum keypoints in any model: 6\n",
      "Value counts: Counter({6: 439})\n"
     ]
    }
   ],
   "source": [
    "filepath = 'annotations/laptop.json' \n",
    "data = load_json(filepath)\n",
    "stats = compute_keypoint_statistics(data)\n",
    "\n",
    "print(\"Summary Statistics:\")\n",
    "for k, v in stats.items():\n",
    "    print(f\"{k}: {v}\")\n"
   ]
  },
  {
   "cell_type": "code",
   "execution_count": 6,
   "id": "5ec32f94",
   "metadata": {},
   "outputs": [
    {
     "name": "stdout",
     "output_type": "stream",
     "text": [
      "Found 587 models with 9 keypoints.\n",
      "Done!\n"
     ]
    }
   ],
   "source": [
    "# Paths\n",
    "mesh_dir = \"Guitars/All\"  # your source directory containing .ply files\n",
    "output_dir = \"Guitars/9_points/\"  # directory to store the filtered files\n",
    "annotation_file = \"guitar.json\"  # your annotation json\n",
    "n = 9\n",
    "\n",
    "# Create output directory if not exists\n",
    "os.makedirs(output_dir, exist_ok=True)\n",
    "\n",
    "# Load annotations\n",
    "with open(annotation_file, \"r\") as f:\n",
    "    annotations = json.load(f)\n",
    "\n",
    "# Build a lookup for model_ids with exactly 9 keypoints\n",
    "model_ids_with_n_kp = []\n",
    "for entry in annotations:\n",
    "    model_id = entry[\"model_id\"]\n",
    "    keypoints = entry[\"keypoints\"]\n",
    "    if len(keypoints) == n:\n",
    "        model_ids_with_n_kp.append(model_id)\n",
    "\n",
    "print(f\"Found {len(model_ids_with_n_kp)} models with {n} keypoints.\")\n",
    "\n",
    "# Copy matching .ply files to output directory\n",
    "for model_id in model_ids_with_n_kp:\n",
    "    src_file = os.path.join(mesh_dir, f\"{model_id}.ply\")\n",
    "    dst_file = os.path.join(output_dir, f\"{model_id}.ply\")\n",
    "    \n",
    "    if os.path.exists(src_file):\n",
    "        shutil.copyfile(src_file, dst_file)\n",
    "    else:\n",
    "        print(f\"Warning: {src_file} not found!\")\n",
    "\n",
    "print(\"Done!\")\n"
   ]
  },
  {
   "cell_type": "code",
   "execution_count": 3,
   "id": "74827e12",
   "metadata": {},
   "outputs": [],
   "source": [
    "# Function that filters and writes filtered JSON data\n",
    "def filter_and_write_models(filepath, target_count, output_path):\n",
    "    data = load_json(filepath)\n",
    "    selected_models = [model for model in data if len(model['keypoints']) == target_count]\n",
    "    with open(output_path, 'w') as f:\n",
    "        json.dump(selected_models, f, indent=2)\n",
    "    print(f\"Saved {len(selected_models)} models with {target_count} keypoints to {output_path}\")"
   ]
  },
  {
   "cell_type": "code",
   "execution_count": 17,
   "id": "bb72ee69",
   "metadata": {},
   "outputs": [
    {
     "name": "stdout",
     "output_type": "stream",
     "text": [
      "Saved 587 models with 9 keypoints to guitar_9.json\n"
     ]
    }
   ],
   "source": [
    "filter_and_write_models(\"guitar.json\", 9, \"guitar_9.json\")"
   ]
  },
  {
   "cell_type": "markdown",
   "id": "713cb9d0",
   "metadata": {},
   "source": [
    "### Ground Truth Keypoints for Model"
   ]
  },
  {
   "cell_type": "code",
   "execution_count": 4,
   "id": "cc075a68",
   "metadata": {},
   "outputs": [],
   "source": [
    "def load_annotations(annotation_file):\n",
    "    with open(annotation_file, \"r\") as f:\n",
    "        annotations = json.load(f)\n",
    "    \n",
    "    model_id_to_keypoints = {}\n",
    "    for entry in annotations:\n",
    "        model_id = entry[\"model_id\"]\n",
    "        keypoints = entry[\"keypoints\"]\n",
    "        model_id_to_keypoints[model_id] = [kp[\"xyz\"] for kp in keypoints]\n",
    "    \n",
    "    return model_id_to_keypoints\n",
    "\n",
    "\n",
    "def get_keypoints_for_model(model_id, annotation_file):\n",
    "    model_id_to_keypoints = load_annotations(annotation_file)\n",
    "    \n",
    "    if model_id in model_id_to_keypoints:\n",
    "        return model_id_to_keypoints[model_id]\n",
    "    else:\n",
    "        print(f\"Model ID {model_id} not found in annotations.\")\n",
    "        return None"
   ]
  },
  {
   "cell_type": "code",
   "execution_count": 7,
   "id": "f21e7bae",
   "metadata": {},
   "outputs": [
    {
     "name": "stdout",
     "output_type": "stream",
     "text": [
      "0.000 0.269 0.027\n",
      "0.002 -0.199 -0.023\n",
      "0.122 -0.252 0.033\n",
      "-0.118 -0.246 0.022\n",
      "0.161 -0.591 0.025\n",
      "-0.135 -0.624 0.023\n",
      "0.008 -0.662 0.026\n",
      "0.112 -0.383 0.027\n",
      "-0.113 -0.387 0.023\n"
     ]
    }
   ],
   "source": [
    "annotation_file = \"guitar.json\"  # Path to your annotation file\n",
    "model_id_example = \"fecefd8313bb5bcdd86d4f3257dfa437\"\n",
    "keypoints = get_keypoints_for_model(model_id_example, annotation_file)\n",
    "if keypoints:\n",
    "    for i, kp in enumerate(keypoints):\n",
    "        print(f\"{kp[0]:.3f} {kp[1]:.3f} {kp[2]:.3f}\")\n"
   ]
  },
  {
   "cell_type": "code",
   "execution_count": null,
   "id": "ca2cf50c",
   "metadata": {},
   "outputs": [],
   "source": []
  },
  {
   "cell_type": "markdown",
   "id": "c49cfc27",
   "metadata": {},
   "source": [
    "### Test Train Split"
   ]
  },
  {
   "cell_type": "code",
   "execution_count": 17,
   "id": "786b4472",
   "metadata": {},
   "outputs": [],
   "source": [
    "import random"
   ]
  },
  {
   "cell_type": "code",
   "execution_count": null,
   "id": "bb36bbe5",
   "metadata": {},
   "outputs": [],
   "source": [
    "def load_json(filepath):\n",
    "    with open(filepath, 'r') as f:\n",
    "        data = json.load(f)\n",
    "    return data\n",
    "\n",
    "def save_json(data, filepath):\n",
    "    with open(filepath, 'w') as f:\n",
    "        json.dump(data, f, indent=2)\n",
    "\n",
    "def split_dataset(filepath, output_train, output_test, train_ratio=0.8, seed=42):\n",
    "    data = load_json(filepath)\n",
    "    random.seed(seed)\n",
    "    random.shuffle(data)\n",
    "    \n",
    "    split_index = int(len(data) * train_ratio)\n",
    "    train_data = data[:split_index]\n",
    "    test_data = data[split_index:]\n",
    "    \n",
    "    save_json(train_data, output_train)\n",
    "    save_json(test_data, output_test)\n",
    "    \n",
    "    print(f\"Dataset split completed.\")\n",
    "    print(f\"Total samples: {len(data)}\")\n",
    "    print(f\"Training samples: {len(train_data)}\")\n",
    "    print(f\"Testing samples: {len(test_data)}\")\n",
    "\n"
   ]
  },
  {
   "cell_type": "code",
   "execution_count": null,
   "id": "aeb12904",
   "metadata": {},
   "outputs": [
    {
     "name": "stdout",
     "output_type": "stream",
     "text": [
      "Dataset split completed.\n",
      "Total samples: 587\n",
      "Training samples: 469\n",
      "Testing samples: 118\n"
     ]
    }
   ],
   "source": [
    "filepath = 'guitar_9.json' \n",
    "split_dataset(filepath, output_train, output_test)"
   ]
  },
  {
   "cell_type": "code",
   "execution_count": null,
   "id": "26500450",
   "metadata": {},
   "outputs": [],
   "source": []
  }
 ],
 "metadata": {
  "kernelspec": {
   "display_name": "pointnet_env",
   "language": "python",
   "name": "python3"
  },
  "language_info": {
   "codemirror_mode": {
    "name": "ipython",
    "version": 3
   },
   "file_extension": ".py",
   "mimetype": "text/x-python",
   "name": "python",
   "nbconvert_exporter": "python",
   "pygments_lexer": "ipython3",
   "version": "3.10.12"
  }
 },
 "nbformat": 4,
 "nbformat_minor": 5
}
