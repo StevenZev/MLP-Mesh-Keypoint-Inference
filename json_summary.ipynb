{
 "cells": [
  {
   "cell_type": "code",
   "execution_count": 1,
   "id": "04912065",
   "metadata": {},
   "outputs": [],
   "source": [
    "import json\n",
    "import statistics\n",
    "from collections import Counter\n",
    "import os \n",
    "import shutil\n"
   ]
  },
  {
   "cell_type": "code",
   "execution_count": 2,
   "id": "1cd6d943",
   "metadata": {},
   "outputs": [],
   "source": [
    "# Load the JSON file\n",
    "def load_json(filepath):\n",
    "    with open(filepath, 'r') as f:\n",
    "        data = json.load(f)\n",
    "    return data\n",
    "\n",
    "# Compute statistics\n",
    "def compute_keypoint_statistics(data):\n",
    "    keypoint_counts = [len(model['keypoints']) for model in data]\n",
    "    \n",
    "    total_models = len(keypoint_counts)\n",
    "    total_keypoints = sum(keypoint_counts)\n",
    "    average_keypoints = statistics.mean(keypoint_counts) if keypoint_counts else 0\n",
    "    min_keypoints = min(keypoint_counts) if keypoint_counts else 0\n",
    "    max_keypoints = max(keypoint_counts) if keypoint_counts else 0\n",
    "    value_counts = Counter(keypoint_counts)\n",
    "    \n",
    "    stats = {\n",
    "        'Total models': total_models,\n",
    "        'Average keypoints per model': average_keypoints,\n",
    "        'Minimum keypoints in any model': min_keypoints,\n",
    "        'Maximum keypoints in any model': max_keypoints,\n",
    "        'Value counts': value_counts\n",
    "    }\n",
    "    \n",
    "    return stats"
   ]
  },
  {
   "cell_type": "code",
   "execution_count": 4,
   "id": "f5bccf98",
   "metadata": {},
   "outputs": [
    {
     "name": "stdout",
     "output_type": "stream",
     "text": [
      "Summary Statistics:\n",
      "Total models: 697\n",
      "Average keypoints per model: 8.464849354375897\n",
      "Minimum keypoints in any model: 4\n",
      "Maximum keypoints in any model: 9\n",
      "Value counts: Counter({9: 587, 5: 79, 7: 14, 8: 12, 6: 4, 4: 1})\n"
     ]
    }
   ],
   "source": [
    "filepath = 'guitar.json' \n",
    "data = load_json(filepath)\n",
    "stats = compute_keypoint_statistics(data)\n",
    "\n",
    "print(\"Summary Statistics:\")\n",
    "for k, v in stats.items():\n",
    "    print(f\"{k}: {v}\")\n"
   ]
  },
  {
   "cell_type": "code",
   "execution_count": 6,
   "id": "5ec32f94",
   "metadata": {},
   "outputs": [
    {
     "name": "stdout",
     "output_type": "stream",
     "text": [
      "Found 587 models with 9 keypoints.\n",
      "Done!\n"
     ]
    }
   ],
   "source": [
    "# Paths\n",
    "mesh_dir = \"Guitars/All\"  # your source directory containing .ply files\n",
    "output_dir = \"Guitars/9_points/\"  # directory to store the filtered files\n",
    "annotation_file = \"guitar.json\"  # your annotation json\n",
    "n = 9\n",
    "\n",
    "# Create output directory if not exists\n",
    "os.makedirs(output_dir, exist_ok=True)\n",
    "\n",
    "# Load annotations\n",
    "with open(annotation_file, \"r\") as f:\n",
    "    annotations = json.load(f)\n",
    "\n",
    "# Build a lookup for model_ids with exactly 9 keypoints\n",
    "model_ids_with_n_kp = []\n",
    "for entry in annotations:\n",
    "    model_id = entry[\"model_id\"]\n",
    "    keypoints = entry[\"keypoints\"]\n",
    "    if len(keypoints) == n:\n",
    "        model_ids_with_n_kp.append(model_id)\n",
    "\n",
    "print(f\"Found {len(model_ids_with_n_kp)} models with {n} keypoints.\")\n",
    "\n",
    "# Copy matching .ply files to output directory\n",
    "for model_id in model_ids_with_n_kp:\n",
    "    src_file = os.path.join(mesh_dir, f\"{model_id}.ply\")\n",
    "    dst_file = os.path.join(output_dir, f\"{model_id}.ply\")\n",
    "    \n",
    "    if os.path.exists(src_file):\n",
    "        shutil.copyfile(src_file, dst_file)\n",
    "    else:\n",
    "        print(f\"Warning: {src_file} not found!\")\n",
    "\n",
    "print(\"Done!\")\n"
   ]
  },
  {
   "cell_type": "code",
   "execution_count": 3,
   "id": "74827e12",
   "metadata": {},
   "outputs": [],
   "source": [
    "# Function that filters and writes filtered JSON data\n",
    "def filter_and_write_models(filepath, target_count, output_path):\n",
    "    data = load_json(filepath)\n",
    "    selected_models = [model for model in data if len(model['keypoints']) == target_count]\n",
    "    with open(output_path, 'w') as f:\n",
    "        json.dump(selected_models, f, indent=2)\n",
    "    print(f\"Saved {len(selected_models)} models with {target_count} keypoints to {output_path}\")"
   ]
  },
  {
   "cell_type": "code",
   "execution_count": 17,
   "id": "bb72ee69",
   "metadata": {},
   "outputs": [
    {
     "name": "stdout",
     "output_type": "stream",
     "text": [
      "Saved 587 models with 9 keypoints to guitar_9.json\n"
     ]
    }
   ],
   "source": [
    "filter_and_write_models(\"guitar.json\", 9, \"guitar_9.json\")"
   ]
  },
  {
   "cell_type": "markdown",
   "id": "713cb9d0",
   "metadata": {},
   "source": [
    "### Ground Truth Keypoints for Model"
   ]
  },
  {
   "cell_type": "code",
   "execution_count": 4,
   "id": "cc075a68",
   "metadata": {},
   "outputs": [],
   "source": [
    "def load_annotations(annotation_file):\n",
    "    with open(annotation_file, \"r\") as f:\n",
    "        annotations = json.load(f)\n",
    "    \n",
    "    model_id_to_keypoints = {}\n",
    "    for entry in annotations:\n",
    "        model_id = entry[\"model_id\"]\n",
    "        keypoints = entry[\"keypoints\"]\n",
    "        model_id_to_keypoints[model_id] = [kp[\"xyz\"] for kp in keypoints]\n",
    "    \n",
    "    return model_id_to_keypoints\n",
    "\n",
    "\n",
    "def get_keypoints_for_model(model_id, annotation_file):\n",
    "    model_id_to_keypoints = load_annotations(annotation_file)\n",
    "    \n",
    "    if model_id in model_id_to_keypoints:\n",
    "        return model_id_to_keypoints[model_id]\n",
    "    else:\n",
    "        print(f\"Model ID {model_id} not found in annotations.\")\n",
    "        return None"
   ]
  },
  {
   "cell_type": "code",
   "execution_count": 8,
   "id": "f21e7bae",
   "metadata": {},
   "outputs": [
    {
     "name": "stdout",
     "output_type": "stream",
     "text": [
      "0.024 0.417 0.008\n",
      "0.013 -0.169 -0.002\n",
      "0.102 -0.140 0.015\n",
      "-0.072 -0.157 0.010\n",
      "0.143 -0.478 0.013\n",
      "-0.114 -0.492 0.012\n",
      "0.012 -0.532 0.015\n",
      "0.111 -0.326 0.014\n",
      "-0.085 -0.316 0.012\n"
     ]
    }
   ],
   "source": [
    "annotation_file = \"guitar.json\"  # Path to your annotation file\n",
    "model_id_example = \"ef1c22bd3b74953689f0379846507dd3\"\n",
    "keypoints = get_keypoints_for_model(model_id_example, annotation_file)\n",
    "if keypoints:\n",
    "    for i, kp in enumerate(keypoints):\n",
    "        print(f\"{kp[0]:.3f} {kp[1]:.3f} {kp[2]:.3f}\")\n"
   ]
  },
  {
   "cell_type": "code",
   "execution_count": null,
   "id": "ca2cf50c",
   "metadata": {},
   "outputs": [],
   "source": []
  },
  {
   "cell_type": "markdown",
   "id": "c49cfc27",
   "metadata": {},
   "source": [
    "### Test Train Split"
   ]
  },
  {
   "cell_type": "code",
   "execution_count": 5,
   "id": "786b4472",
   "metadata": {},
   "outputs": [],
   "source": [
    "import random"
   ]
  },
  {
   "cell_type": "code",
   "execution_count": 6,
   "id": "bb36bbe5",
   "metadata": {},
   "outputs": [],
   "source": [
    "def load_json(filepath):\n",
    "    with open(filepath, 'r') as f:\n",
    "        data = json.load(f)\n",
    "    return data\n",
    "\n",
    "def save_json(data, filepath):\n",
    "    with open(filepath, 'w') as f:\n",
    "        json.dump(data, f, indent=2)\n",
    "\n",
    "def split_dataset(filepath, train_ratio=0.8, seed=42):\n",
    "    data = load_json(filepath)\n",
    "    random.seed(seed)\n",
    "    random.shuffle(data)\n",
    "    \n",
    "    split_index = int(len(data) * train_ratio)\n",
    "    train_data = data[:split_index]\n",
    "    test_data = data[split_index:]\n",
    "    \n",
    "    save_json(train_data, 'guitar_train.json')\n",
    "    save_json(test_data, 'guitar_test.json')\n",
    "    \n",
    "    print(f\"Dataset split completed.\")\n",
    "    print(f\"Total samples: {len(data)}\")\n",
    "    print(f\"Training samples: {len(train_data)}\")\n",
    "    print(f\"Testing samples: {len(test_data)}\")\n",
    "\n"
   ]
  },
  {
   "cell_type": "code",
   "execution_count": 7,
   "id": "aeb12904",
   "metadata": {},
   "outputs": [
    {
     "name": "stdout",
     "output_type": "stream",
     "text": [
      "Dataset split completed.\n",
      "Total samples: 587\n",
      "Training samples: 469\n",
      "Testing samples: 118\n"
     ]
    }
   ],
   "source": [
    "filepath = 'guitar_9.json' \n",
    "split_dataset(filepath)"
   ]
  },
  {
   "cell_type": "code",
   "execution_count": null,
   "id": "26500450",
   "metadata": {},
   "outputs": [],
   "source": []
  }
 ],
 "metadata": {
  "kernelspec": {
   "display_name": "pointnet_env",
   "language": "python",
   "name": "python3"
  },
  "language_info": {
   "codemirror_mode": {
    "name": "ipython",
    "version": 3
   },
   "file_extension": ".py",
   "mimetype": "text/x-python",
   "name": "python",
   "nbconvert_exporter": "python",
   "pygments_lexer": "ipython3",
   "version": "3.10.12"
  }
 },
 "nbformat": 4,
 "nbformat_minor": 5
}
