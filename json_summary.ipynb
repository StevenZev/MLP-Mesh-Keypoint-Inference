{
 "cells": [
  {
   "cell_type": "code",
   "execution_count": 5,
   "id": "04912065",
   "metadata": {},
   "outputs": [],
   "source": [
    "import json\n",
    "import statistics\n",
    "from collections import Counter\n",
    "import os \n",
    "import shutil\n"
   ]
  },
  {
   "cell_type": "code",
   "execution_count": 6,
   "id": "1cd6d943",
   "metadata": {},
   "outputs": [],
   "source": [
    "# Load the JSON file\n",
    "def load_json(filepath):\n",
    "    with open(filepath, 'r') as f:\n",
    "        data = json.load(f)\n",
    "    return data\n",
    "\n",
    "# Compute statistics\n",
    "def compute_keypoint_statistics(data):\n",
    "    keypoint_counts = [len(model['keypoints']) for model in data]\n",
    "    \n",
    "    total_models = len(keypoint_counts)\n",
    "    total_keypoints = sum(keypoint_counts)\n",
    "    average_keypoints = statistics.mean(keypoint_counts) if keypoint_counts else 0\n",
    "    min_keypoints = min(keypoint_counts) if keypoint_counts else 0\n",
    "    max_keypoints = max(keypoint_counts) if keypoint_counts else 0\n",
    "    value_counts = Counter(keypoint_counts)\n",
    "    \n",
    "    stats = {\n",
    "        'Total models': total_models,\n",
    "        'Average keypoints per model': average_keypoints,\n",
    "        'Minimum keypoints in any model': min_keypoints,\n",
    "        'Maximum keypoints in any model': max_keypoints,\n",
    "        'Value counts': value_counts\n",
    "    }\n",
    "    \n",
    "    return stats"
   ]
  },
  {
   "cell_type": "code",
   "execution_count": 11,
   "id": "f5bccf98",
   "metadata": {},
   "outputs": [
    {
     "name": "stdout",
     "output_type": "stream",
     "text": [
      "Summary Statistics:\n",
      "Total models: 92\n",
      "Average keypoints per model: 2\n",
      "Minimum keypoints in any model: 2\n",
      "Maximum keypoints in any model: 2\n",
      "Value counts: Counter({2: 92})\n"
     ]
    }
   ],
   "source": [
    "filepath = 'knee_annotations/7-2-25/knee_points_4_5.json' \n",
    "data = load_json(filepath)\n",
    "stats = compute_keypoint_statistics(data)\n",
    "\n",
    "print(\"Summary Statistics:\")\n",
    "for k, v in stats.items():\n",
    "    print(f\"{k}: {v}\")\n"
   ]
  },
  {
   "cell_type": "code",
   "execution_count": 3,
   "id": "5ec32f94",
   "metadata": {},
   "outputs": [
    {
     "ename": "FileNotFoundError",
     "evalue": "[Errno 2] No such file or directory: 'guitar.json'",
     "output_type": "error",
     "traceback": [
      "\u001b[0;31m---------------------------------------------------------------------------\u001b[0m",
      "\u001b[0;31mFileNotFoundError\u001b[0m                         Traceback (most recent call last)",
      "Cell \u001b[0;32mIn[3], line 11\u001b[0m\n\u001b[1;32m      8\u001b[0m os\u001b[38;5;241m.\u001b[39mmakedirs(output_dir, exist_ok\u001b[38;5;241m=\u001b[39m\u001b[38;5;28;01mTrue\u001b[39;00m)\n\u001b[1;32m     10\u001b[0m \u001b[38;5;66;03m# Load annotations\u001b[39;00m\n\u001b[0;32m---> 11\u001b[0m \u001b[38;5;28;01mwith\u001b[39;00m \u001b[38;5;28;43mopen\u001b[39;49m\u001b[43m(\u001b[49m\u001b[43mannotation_file\u001b[49m\u001b[43m,\u001b[49m\u001b[43m \u001b[49m\u001b[38;5;124;43m\"\u001b[39;49m\u001b[38;5;124;43mr\u001b[39;49m\u001b[38;5;124;43m\"\u001b[39;49m\u001b[43m)\u001b[49m \u001b[38;5;28;01mas\u001b[39;00m f:\n\u001b[1;32m     12\u001b[0m     annotations \u001b[38;5;241m=\u001b[39m json\u001b[38;5;241m.\u001b[39mload(f)\n\u001b[1;32m     14\u001b[0m \u001b[38;5;66;03m# Build a lookup for model_ids with exactly 9 keypoints\u001b[39;00m\n",
      "File \u001b[0;32m~/pointnet_env/lib/python3.10/site-packages/IPython/core/interactiveshell.py:324\u001b[0m, in \u001b[0;36m_modified_open\u001b[0;34m(file, *args, **kwargs)\u001b[0m\n\u001b[1;32m    317\u001b[0m \u001b[38;5;28;01mif\u001b[39;00m file \u001b[38;5;129;01min\u001b[39;00m {\u001b[38;5;241m0\u001b[39m, \u001b[38;5;241m1\u001b[39m, \u001b[38;5;241m2\u001b[39m}:\n\u001b[1;32m    318\u001b[0m     \u001b[38;5;28;01mraise\u001b[39;00m \u001b[38;5;167;01mValueError\u001b[39;00m(\n\u001b[1;32m    319\u001b[0m         \u001b[38;5;124mf\u001b[39m\u001b[38;5;124m\"\u001b[39m\u001b[38;5;124mIPython won\u001b[39m\u001b[38;5;124m'\u001b[39m\u001b[38;5;124mt let you open fd=\u001b[39m\u001b[38;5;132;01m{\u001b[39;00mfile\u001b[38;5;132;01m}\u001b[39;00m\u001b[38;5;124m by default \u001b[39m\u001b[38;5;124m\"\u001b[39m\n\u001b[1;32m    320\u001b[0m         \u001b[38;5;124m\"\u001b[39m\u001b[38;5;124mas it is likely to crash IPython. If you know what you are doing, \u001b[39m\u001b[38;5;124m\"\u001b[39m\n\u001b[1;32m    321\u001b[0m         \u001b[38;5;124m\"\u001b[39m\u001b[38;5;124myou can use builtins\u001b[39m\u001b[38;5;124m'\u001b[39m\u001b[38;5;124m open.\u001b[39m\u001b[38;5;124m\"\u001b[39m\n\u001b[1;32m    322\u001b[0m     )\n\u001b[0;32m--> 324\u001b[0m \u001b[38;5;28;01mreturn\u001b[39;00m \u001b[43mio_open\u001b[49m\u001b[43m(\u001b[49m\u001b[43mfile\u001b[49m\u001b[43m,\u001b[49m\u001b[43m \u001b[49m\u001b[38;5;241;43m*\u001b[39;49m\u001b[43margs\u001b[49m\u001b[43m,\u001b[49m\u001b[43m \u001b[49m\u001b[38;5;241;43m*\u001b[39;49m\u001b[38;5;241;43m*\u001b[39;49m\u001b[43mkwargs\u001b[49m\u001b[43m)\u001b[49m\n",
      "\u001b[0;31mFileNotFoundError\u001b[0m: [Errno 2] No such file or directory: 'guitar.json'"
     ]
    }
   ],
   "source": [
    "# Paths\n",
    "mesh_dir = \"Guitars/All\"  # your source directory containing .ply files\n",
    "output_dir = \"Guitars/9_points/\"  # directory to store the filtered files\n",
    "annotation_file = \"guitar.json\"  # your annotation json\n",
    "n = 9\n",
    "\n",
    "# Create output directory if not exists\n",
    "os.makedirs(output_dir, exist_ok=True)\n",
    "\n",
    "# Load annotations\n",
    "with open(annotation_file, \"r\") as f:\n",
    "    annotations = json.load(f)\n",
    "\n",
    "# Build a lookup for model_ids with exactly 9 keypoints\n",
    "model_ids_with_n_kp = []\n",
    "for entry in annotations:\n",
    "    model_id = entry[\"model_id\"]\n",
    "    keypoints = entry[\"keypoints\"]\n",
    "    if len(keypoints) == n:\n",
    "        model_ids_with_n_kp.append(model_id)\n",
    "\n",
    "print(f\"Found {len(model_ids_with_n_kp)} models with {n} keypoints.\")\n",
    "\n",
    "# Copy matching .ply files to output directory\n",
    "for model_id in model_ids_with_n_kp:\n",
    "    src_file = os.path.join(mesh_dir, f\"{model_id}.ply\")\n",
    "    dst_file = os.path.join(output_dir, f\"{model_id}.ply\")\n",
    "    \n",
    "    if os.path.exists(src_file):\n",
    "        shutil.copyfile(src_file, dst_file)\n",
    "    else:\n",
    "        print(f\"Warning: {src_file} not found!\")\n",
    "\n",
    "print(\"Done!\")\n"
   ]
  },
  {
   "cell_type": "code",
   "execution_count": 4,
   "id": "74827e12",
   "metadata": {},
   "outputs": [],
   "source": [
    "# Function that filters and writes filtered JSON data\n",
    "def filter_and_write_models(filepath, target_count, output_path):\n",
    "    data = load_json(filepath)\n",
    "    selected_models = [model for model in data if len(model['keypoints']) == target_count]\n",
    "    with open(output_path, 'w') as f:\n",
    "        json.dump(selected_models, f, indent=2)\n",
    "    print(f\"Saved {len(selected_models)} models with {target_count} keypoints to {output_path}\")"
   ]
  },
  {
   "cell_type": "code",
   "execution_count": 17,
   "id": "bb72ee69",
   "metadata": {},
   "outputs": [
    {
     "name": "stdout",
     "output_type": "stream",
     "text": [
      "Saved 587 models with 9 keypoints to guitar_9.json\n"
     ]
    }
   ],
   "source": [
    "filter_and_write_models(\"guitar.json\", 9, \"guitar_9.json\")"
   ]
  },
  {
   "cell_type": "markdown",
   "id": "713cb9d0",
   "metadata": {},
   "source": [
    "### Ground Truth Keypoints for Model"
   ]
  },
  {
   "cell_type": "code",
   "execution_count": 5,
   "id": "cc075a68",
   "metadata": {},
   "outputs": [],
   "source": [
    "def load_annotations(annotation_file):\n",
    "    with open(annotation_file, \"r\") as f:\n",
    "        annotations = json.load(f)\n",
    "    \n",
    "    model_id_to_keypoints = {}\n",
    "    for entry in annotations:\n",
    "        model_id = entry[\"model_id\"]\n",
    "        keypoints = entry[\"keypoints\"]\n",
    "        model_id_to_keypoints[model_id] = [kp[\"xyz\"] for kp in keypoints]\n",
    "    \n",
    "    return model_id_to_keypoints\n",
    "\n",
    "\n",
    "def get_keypoints_for_model(model_id, annotation_file):\n",
    "    model_id_to_keypoints = load_annotations(annotation_file)\n",
    "    \n",
    "    if model_id in model_id_to_keypoints:\n",
    "        return model_id_to_keypoints[model_id]\n",
    "    else:\n",
    "        print(f\"Model ID {model_id} not found in annotations.\")\n",
    "        return None"
   ]
  },
  {
   "cell_type": "code",
   "execution_count": 10,
   "id": "f21e7bae",
   "metadata": {},
   "outputs": [
    {
     "ename": "NameError",
     "evalue": "name 'get_keypoints_for_model' is not defined",
     "output_type": "error",
     "traceback": [
      "\u001b[0;31m---------------------------------------------------------------------------\u001b[0m",
      "\u001b[0;31mNameError\u001b[0m                                 Traceback (most recent call last)",
      "Cell \u001b[0;32mIn[10], line 3\u001b[0m\n\u001b[1;32m      1\u001b[0m annotation_file \u001b[38;5;241m=\u001b[39m \u001b[38;5;124m\"\u001b[39m\u001b[38;5;124mknee_annotations/7-2-25/knees_4_5_aug_flipped.json\u001b[39m\u001b[38;5;124m\"\u001b[39m  \u001b[38;5;66;03m# Path to your annotation file\u001b[39;00m\n\u001b[1;32m      2\u001b[0m model_id_example \u001b[38;5;241m=\u001b[39m \u001b[38;5;124m\"\u001b[39m\u001b[38;5;124m12288\u001b[39m\u001b[38;5;124m\"\u001b[39m\n\u001b[0;32m----> 3\u001b[0m keypoints \u001b[38;5;241m=\u001b[39m \u001b[43mget_keypoints_for_model\u001b[49m(model_id_example, annotation_file)\n\u001b[1;32m      4\u001b[0m \u001b[38;5;28;01mif\u001b[39;00m keypoints:\n\u001b[1;32m      5\u001b[0m     \u001b[38;5;28;01mfor\u001b[39;00m i, kp \u001b[38;5;129;01min\u001b[39;00m \u001b[38;5;28menumerate\u001b[39m(keypoints):\n",
      "\u001b[0;31mNameError\u001b[0m: name 'get_keypoints_for_model' is not defined"
     ]
    }
   ],
   "source": [
    "annotation_file = \"knee_annotations/7-2-25/knees_4_5_aug_flipped.json\"  # Path to your annotation file\n",
    "model_id_example = \"12288\"\n",
    "keypoints = get_keypoints_for_model(model_id_example, annotation_file)\n",
    "if keypoints:\n",
    "    for i, kp in enumerate(keypoints):\n",
    "        print(f\"{kp[0]:.3f} {kp[1]:.3f} {kp[2]:.3f}\")\n"
   ]
  },
  {
   "cell_type": "markdown",
   "id": "c49cfc27",
   "metadata": {},
   "source": [
    "### Test Train Split"
   ]
  },
  {
   "cell_type": "code",
   "execution_count": 17,
   "id": "786b4472",
   "metadata": {},
   "outputs": [],
   "source": [
    "import random"
   ]
  },
  {
   "cell_type": "code",
   "execution_count": 47,
   "id": "bb36bbe5",
   "metadata": {},
   "outputs": [],
   "source": [
    "def load_json(filepath):\n",
    "    with open(filepath, 'r') as f:\n",
    "        data = json.load(f)\n",
    "    return data\n",
    "\n",
    "def save_json(data, filepath):\n",
    "    with open(filepath, 'w') as f:\n",
    "        json.dump(data, f, indent=2)\n",
    "\n",
    "def split_dataset(filepath, output_train, output_test, train_ratio=0.75, seed=42):\n",
    "    data = load_json(filepath)\n",
    "    random.seed(seed)\n",
    "    random.shuffle(data)\n",
    "    \n",
    "    split_index = int(len(data) * train_ratio)\n",
    "    train_data = data[:split_index]\n",
    "    test_data = data[split_index:]\n",
    "    \n",
    "    save_json(train_data, output_train)\n",
    "    save_json(test_data, output_test)\n",
    "    \n",
    "    print(f\"Dataset split completed.\")\n",
    "    print(f\"Total samples: {len(data)}\")\n",
    "    print(f\"Training samples: {len(train_data)}\")\n",
    "    print(f\"Testing samples: {len(test_data)}\")\n",
    "\n"
   ]
  },
  {
   "cell_type": "code",
   "execution_count": 48,
   "id": "aeb12904",
   "metadata": {},
   "outputs": [
    {
     "name": "stdout",
     "output_type": "stream",
     "text": [
      "Dataset split completed.\n",
      "Total samples: 43\n",
      "Training samples: 32\n",
      "Testing samples: 11\n"
     ]
    }
   ],
   "source": [
    "filepath = 'knees_flipped.json' \n",
    "split_dataset(filepath, \"knees_train.json\", \"knees_test.json\")"
   ]
  },
  {
   "cell_type": "code",
   "execution_count": null,
   "id": "26500450",
   "metadata": {},
   "outputs": [],
   "source": []
  },
  {
   "cell_type": "markdown",
   "id": "3eb0d0a6",
   "metadata": {},
   "source": [
    "### Flip y and z in json"
   ]
  },
  {
   "cell_type": "code",
   "execution_count": 13,
   "id": "d3fdb574",
   "metadata": {},
   "outputs": [],
   "source": [
    "def flip_yz_axes(input_path, output_path):\n",
    "    with open(input_path, 'r') as f:\n",
    "        data = json.load(f)\n",
    "\n",
    "    for entry in data:\n",
    "        for kp in entry.get(\"keypoints\", []):\n",
    "            x, y, z = kp[\"xyz\"]\n",
    "            kp[\"xyz\"] = [x, z, y]  # Swap Y and Z\n",
    "\n",
    "    with open(output_path, 'w') as f:\n",
    "        json.dump(data, f, indent=2)\n"
   ]
  },
  {
   "cell_type": "code",
   "execution_count": 14,
   "id": "93952148",
   "metadata": {},
   "outputs": [],
   "source": [
    "flip_yz_axes(\"knee_annotations/7-2-25/knee_points_4_5.json\", \"knee_annotations/7-2-25/knee_points_4_5_flipped.json\")"
   ]
  },
  {
   "cell_type": "code",
   "execution_count": null,
   "id": "3be06c75",
   "metadata": {},
   "outputs": [],
   "source": []
  }
 ],
 "metadata": {
  "kernelspec": {
   "display_name": "pointnet_env",
   "language": "python",
   "name": "python3"
  },
  "language_info": {
   "codemirror_mode": {
    "name": "ipython",
    "version": 3
   },
   "file_extension": ".py",
   "mimetype": "text/x-python",
   "name": "python",
   "nbconvert_exporter": "python",
   "pygments_lexer": "ipython3",
   "version": "3.10.12"
  }
 },
 "nbformat": 4,
 "nbformat_minor": 5
}
