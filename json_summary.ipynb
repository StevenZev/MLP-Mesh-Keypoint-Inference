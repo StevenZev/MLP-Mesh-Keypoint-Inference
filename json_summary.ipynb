{
 "cells": [
  {
   "cell_type": "code",
   "execution_count": 6,
   "id": "04912065",
   "metadata": {},
   "outputs": [],
   "source": [
    "import json\n",
    "import statistics\n",
    "from collections import Counter\n"
   ]
  },
  {
   "cell_type": "code",
   "execution_count": 9,
   "id": "1cd6d943",
   "metadata": {},
   "outputs": [],
   "source": [
    "# Load the JSON file\n",
    "def load_json(filepath):\n",
    "    with open(filepath, 'r') as f:\n",
    "        data = json.load(f)\n",
    "    return data\n",
    "\n",
    "# Compute statistics\n",
    "def compute_keypoint_statistics(data):\n",
    "    keypoint_counts = [len(model['keypoints']) for model in data]\n",
    "    \n",
    "    total_models = len(keypoint_counts)\n",
    "    total_keypoints = sum(keypoint_counts)\n",
    "    average_keypoints = statistics.mean(keypoint_counts) if keypoint_counts else 0\n",
    "    min_keypoints = min(keypoint_counts) if keypoint_counts else 0\n",
    "    max_keypoints = max(keypoint_counts) if keypoint_counts else 0\n",
    "    value_counts = Counter(keypoint_counts)\n",
    "    \n",
    "    stats = {\n",
    "        'Total models': total_models,\n",
    "        'Average keypoints per model': average_keypoints,\n",
    "        'Minimum keypoints in any model': min_keypoints,\n",
    "        'Maximum keypoints in any model': max_keypoints,\n",
    "        'Value counts': value_counts\n",
    "    }\n",
    "    \n",
    "    return stats"
   ]
  },
  {
   "cell_type": "code",
   "execution_count": 10,
   "id": "f5bccf98",
   "metadata": {},
   "outputs": [
    {
     "name": "stdout",
     "output_type": "stream",
     "text": [
      "Summary Statistics:\n",
      "Total models: 38\n",
      "Average keypoints per model: 5.947368421052632\n",
      "Minimum keypoints in any model: 5\n",
      "Maximum keypoints in any model: 6\n",
      "Value counts: Counter({6: 36, 5: 2})\n"
     ]
    }
   ],
   "source": [
    "filepath = 'cap.json' \n",
    "data = load_json(filepath)\n",
    "stats = compute_keypoint_statistics(data)\n",
    "\n",
    "print(\"Summary Statistics:\")\n",
    "for k, v in stats.items():\n",
    "    print(f\"{k}: {v}\")\n"
   ]
  },
  {
   "cell_type": "code",
   "execution_count": null,
   "id": "5ec32f94",
   "metadata": {},
   "outputs": [],
   "source": []
  },
  {
   "cell_type": "code",
   "execution_count": null,
   "id": "cc075a68",
   "metadata": {},
   "outputs": [],
   "source": []
  },
  {
   "cell_type": "code",
   "execution_count": null,
   "id": "f21e7bae",
   "metadata": {},
   "outputs": [],
   "source": []
  }
 ],
 "metadata": {
  "kernelspec": {
   "display_name": "pointnet_wsl",
   "language": "python",
   "name": "capnet_env"
  },
  "language_info": {
   "codemirror_mode": {
    "name": "ipython",
    "version": 3
   },
   "file_extension": ".py",
   "mimetype": "text/x-python",
   "name": "python",
   "nbconvert_exporter": "python",
   "pygments_lexer": "ipython3",
   "version": "3.10.12"
  }
 },
 "nbformat": 4,
 "nbformat_minor": 5
}
