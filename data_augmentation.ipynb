{
 "cells": [
  {
   "cell_type": "code",
   "execution_count": 6,
   "id": "572673db",
   "metadata": {},
   "outputs": [],
   "source": [
    "import os\n",
    "import json\n",
    "import numpy as np\n",
    "import trimesh\n",
    "import shutil\n",
    "from tqdm import tqdm"
   ]
  },
  {
   "cell_type": "code",
   "execution_count": 7,
   "metadata": {},
   "outputs": [],
   "source": [
    "# Config\n",
    "ORIGINAL_JSON = \"knee_annotations/7-2-25/knee_points_4_5_flipped.json\"\n",
    "MESH_DIR = \"scans_3\"\n",
    "OUTPUT_JSON = \"knee_annotations/7-2-25/knee_points_4_5_aug.json\"\n",
    "OUTPUT_MESH_DIR = \"scans_3_aug\"\n",
    "NUM_AUGMENTATIONS = 6  # How many times to augment each sample"
   ]
  },
  {
   "cell_type": "code",
   "execution_count": null,
   "id": "062d9429",
   "metadata": {},
   "outputs": [],
   "source": [
    "# Create output directory for augmented meshes\n",
    "#if not os.path.exists(\"OUTPUT_MESH_DIR\"):\n",
    "shutil.copytree(MESH_DIR, OUTPUT_MESH_DIR) #Copy unaugmented scans over (idk if this works if destination dir exists...)\n",
    "\n",
    "#os.makedirs(OUTPUT_MESH_DIR, exist_ok=True)\n",
    "\n",
    "\n",
    "# Load original dataset\n",
    "with open(ORIGINAL_JSON, 'r') as f:\n",
    "    original_data = json.load(f)"
   ]
  },
  {
   "cell_type": "code",
   "execution_count": 9,
   "id": "3eca2023",
   "metadata": {},
   "outputs": [
    {
     "name": "stderr",
     "output_type": "stream",
     "text": [
      "Augmenting dataset with meshes: 100%|██████████| 92/92 [01:42<00:00,  1.11s/it]\n"
     ]
    }
   ],
   "source": [
    "augmented_data = []\n",
    "\n",
    "for sample in tqdm(original_data, desc=\"Augmenting dataset with meshes\"):\n",
    "    model_id = sample[\"model_id\"]\n",
    "    #mesh_path = os.path.join(MESH_DIR, model_id + \".ply\")\n",
    "    mesh_path = os.path.join(MESH_DIR, model_id + \".stl\")\n",
    "\n",
    "    if not os.path.exists(mesh_path):\n",
    "        print(f\"Mesh {mesh_path} not found, skipping.\")\n",
    "        continue\n",
    "\n",
    "    mesh = trimesh.load(mesh_path, force='mesh')\n",
    "    if mesh.is_empty or len(mesh.faces) == 0:\n",
    "        print(f\"Mesh {model_id} is empty, skipping.\")\n",
    "        continue\n",
    "\n",
    "    vertices = mesh.vertices\n",
    "    faces = mesh.faces\n",
    "\n",
    "    keypoints = np.array([kp[\"xyz\"] for kp in sample[\"keypoints\"]])\n",
    "\n",
    "    for aug_id in range(NUM_AUGMENTATIONS):\n",
    "        # 1. Random Z rotation\n",
    "        theta = np.random.uniform(0, 2*np.pi)\n",
    "        cos_theta, sin_theta = np.cos(theta), np.sin(theta)\n",
    "        Rz = np.array([[cos_theta, -sin_theta, 0],\n",
    "                       [sin_theta,  cos_theta, 0],\n",
    "                       [0, 0, 1]])\n",
    "        vertices_aug = vertices @ Rz.T\n",
    "        keypoints_aug = keypoints @ Rz.T\n",
    "\n",
    "        # 2. Uniform scaling\n",
    "        scale = np.random.uniform(0.9, 1.1)\n",
    "        vertices_aug *= scale\n",
    "        keypoints_aug *= scale\n",
    "\n",
    "        # 3. XY translation\n",
    "        shift_xy = np.random.uniform(-0.05, 0.05, size=(1, 2))\n",
    "        vertices_aug[:, :2] += shift_xy\n",
    "        keypoints_aug[:, :2] += shift_xy\n",
    "\n",
    "        # Save augmented mesh\n",
    "        augmented_mesh = trimesh.Trimesh(vertices=vertices_aug, faces=faces, process=False)\n",
    "        #augmented_mesh_filename = f\"{model_id}_aug_{aug_id}.ply\"\n",
    "        augmented_mesh_filename = f\"{model_id}_aug_{aug_id}.stl\"\n",
    "        augmented_mesh.export(os.path.join(OUTPUT_MESH_DIR, augmented_mesh_filename))\n",
    "\n",
    "        # Save augmented keypoints\n",
    "        new_sample = {\n",
    "            \"model_id\": f\"{model_id}_aug_{aug_id}\",\n",
    "            \"keypoints\": [\n",
    "                #{\"semantic_id\": kp[\"semantic_id\"], \"xyz\": xyz.tolist()}\n",
    "                {\"xyz\": xyz.tolist()}\n",
    "                for kp, xyz in zip(sample[\"keypoints\"], keypoints_aug)\n",
    "            ]\n",
    "        }\n",
    "        augmented_data.append(new_sample)\n",
    "\n",
    "# Merge original + augmented samples\n",
    "full_dataset = original_data + augmented_data\n",
    "\n"
   ]
  },
  {
   "cell_type": "code",
   "execution_count": 10,
   "id": "8a4dbd78",
   "metadata": {},
   "outputs": [
    {
     "name": "stdout",
     "output_type": "stream",
     "text": [
      "Augmented dataset with meshes saved to knee_annotations/7-2-25/knee_points_4_5_aug.json. Total samples: 644\n"
     ]
    }
   ],
   "source": [
    "# Save to new JSON file\n",
    "with open(OUTPUT_JSON, \"w\") as f:\n",
    "    json.dump(full_dataset, f, indent=2)\n",
    "\n",
    "print(f\"Augmented dataset with meshes saved to {OUTPUT_JSON}. Total samples: {len(full_dataset)}\")\n"
   ]
  },
  {
   "cell_type": "code",
   "execution_count": null,
   "id": "10b8fa99",
   "metadata": {},
   "outputs": [],
   "source": []
  }
 ],
 "metadata": {
  "kernelspec": {
   "display_name": "pointnet_env",
   "language": "python",
   "name": "python3"
  },
  "language_info": {
   "codemirror_mode": {
    "name": "ipython",
    "version": 3
   },
   "file_extension": ".py",
   "mimetype": "text/x-python",
   "name": "python",
   "nbconvert_exporter": "python",
   "pygments_lexer": "ipython3",
   "version": "3.10.12"
  }
 },
 "nbformat": 4,
 "nbformat_minor": 5
}
