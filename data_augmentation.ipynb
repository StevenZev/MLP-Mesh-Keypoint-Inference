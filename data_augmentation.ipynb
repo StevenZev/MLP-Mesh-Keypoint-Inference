{
 "cells": [
  {
   "cell_type": "code",
   "execution_count": 1,
   "id": "572673db",
   "metadata": {},
   "outputs": [],
   "source": [
    "import os\n",
    "import json\n",
    "import numpy as np\n",
    "import trimesh\n",
    "from tqdm import tqdm"
   ]
  },
  {
   "cell_type": "code",
   "execution_count": 2,
   "id": "f5daca01",
   "metadata": {},
   "outputs": [],
   "source": [
    "# Config\n",
    "ORIGINAL_JSON = \"guitar_train.json\"\n",
    "MESH_DIR = \"Guitars/All\"\n",
    "OUTPUT_JSON = \"guitar_train_augmented.json\"\n",
    "NUM_AUGMENTATIONS = 5  # How many times to augment each sample\n",
    "NUM_POINTS = 8192  # Point cloud size"
   ]
  },
  {
   "cell_type": "code",
   "execution_count": 3,
   "id": "cc93aaa9",
   "metadata": {},
   "outputs": [
    {
     "name": "stderr",
     "output_type": "stream",
     "text": [
      "Augmenting dataset:  25%|██▍       | 115/469 [00:23<01:12,  4.91it/s]\n"
     ]
    },
    {
     "ename": "KeyboardInterrupt",
     "evalue": "",
     "output_type": "error",
     "traceback": [
      "\u001b[0;31m---------------------------------------------------------------------------\u001b[0m",
      "\u001b[0;31mKeyboardInterrupt\u001b[0m                         Traceback (most recent call last)",
      "Cell \u001b[0;32mIn[3], line 25\u001b[0m\n\u001b[1;32m     23\u001b[0m \u001b[38;5;66;03m# Create multiple augmentations for each sample\u001b[39;00m\n\u001b[1;32m     24\u001b[0m \u001b[38;5;28;01mfor\u001b[39;00m aug_id \u001b[38;5;129;01min\u001b[39;00m \u001b[38;5;28mrange\u001b[39m(NUM_AUGMENTATIONS):\n\u001b[0;32m---> 25\u001b[0m     points, _ \u001b[38;5;241m=\u001b[39m \u001b[43mtrimesh\u001b[49m\u001b[38;5;241;43m.\u001b[39;49m\u001b[43msample\u001b[49m\u001b[38;5;241;43m.\u001b[39;49m\u001b[43msample_surface\u001b[49m\u001b[43m(\u001b[49m\u001b[43mmesh\u001b[49m\u001b[43m,\u001b[49m\u001b[43m \u001b[49m\u001b[43mNUM_POINTS\u001b[49m\u001b[43m)\u001b[49m\n\u001b[1;32m     27\u001b[0m     \u001b[38;5;66;03m# --- Apply augmentation --- #\u001b[39;00m\n\u001b[1;32m     28\u001b[0m     \u001b[38;5;66;03m# 1. Random Z rotation\u001b[39;00m\n\u001b[1;32m     29\u001b[0m     theta \u001b[38;5;241m=\u001b[39m np\u001b[38;5;241m.\u001b[39mrandom\u001b[38;5;241m.\u001b[39muniform(\u001b[38;5;241m0\u001b[39m, \u001b[38;5;241m2\u001b[39m\u001b[38;5;241m*\u001b[39mnp\u001b[38;5;241m.\u001b[39mpi)\n",
      "File \u001b[0;32m~/pointnet_env/lib/python3.10/site-packages/trimesh/sample.py:77\u001b[0m, in \u001b[0;36msample_surface\u001b[0;34m(mesh, count, face_weight, sample_color, seed)\u001b[0m\n\u001b[1;32m     75\u001b[0m \u001b[38;5;66;03m# pull triangles into the form of an origin + 2 vectors\u001b[39;00m\n\u001b[1;32m     76\u001b[0m tri_origins \u001b[38;5;241m=\u001b[39m mesh\u001b[38;5;241m.\u001b[39mvertices[mesh\u001b[38;5;241m.\u001b[39mfaces[:, \u001b[38;5;241m0\u001b[39m]]\n\u001b[0;32m---> 77\u001b[0m tri_vectors \u001b[38;5;241m=\u001b[39m \u001b[43mmesh\u001b[49m\u001b[38;5;241;43m.\u001b[39;49m\u001b[43mvertices\u001b[49m\u001b[43m[\u001b[49m\u001b[43mmesh\u001b[49m\u001b[38;5;241;43m.\u001b[39;49m\u001b[43mfaces\u001b[49m\u001b[43m[\u001b[49m\u001b[43m:\u001b[49m\u001b[43m,\u001b[49m\u001b[43m \u001b[49m\u001b[38;5;241;43m1\u001b[39;49m\u001b[43m:\u001b[49m\u001b[43m]\u001b[49m\u001b[43m]\u001b[49m\u001b[38;5;241m.\u001b[39mcopy()\n\u001b[1;32m     78\u001b[0m tri_vectors \u001b[38;5;241m-\u001b[39m\u001b[38;5;241m=\u001b[39m np\u001b[38;5;241m.\u001b[39mtile(tri_origins, (\u001b[38;5;241m1\u001b[39m, \u001b[38;5;241m2\u001b[39m))\u001b[38;5;241m.\u001b[39mreshape((\u001b[38;5;241m-\u001b[39m\u001b[38;5;241m1\u001b[39m, \u001b[38;5;241m2\u001b[39m, \u001b[38;5;241m3\u001b[39m))\n\u001b[1;32m     80\u001b[0m \u001b[38;5;66;03m# pull the vectors for the faces we are going to sample from\u001b[39;00m\n",
      "File \u001b[0;32m~/pointnet_env/lib/python3.10/site-packages/trimesh/caching.py:178\u001b[0m, in \u001b[0;36mTrackedArray.__array_finalize__\u001b[0;34m(self, obj)\u001b[0m\n\u001b[1;32m    158\u001b[0m \u001b[38;5;28;01mclass\u001b[39;00m\u001b[38;5;250m \u001b[39m\u001b[38;5;21;01mTrackedArray\u001b[39;00m(np\u001b[38;5;241m.\u001b[39mndarray):\n\u001b[1;32m    159\u001b[0m \u001b[38;5;250m    \u001b[39m\u001b[38;5;124;03m\"\"\"\u001b[39;00m\n\u001b[1;32m    160\u001b[0m \u001b[38;5;124;03m    Subclass of numpy.ndarray that provides hash methods\u001b[39;00m\n\u001b[1;32m    161\u001b[0m \u001b[38;5;124;03m    to track changes.\u001b[39;00m\n\u001b[0;32m   (...)\u001b[0m\n\u001b[1;32m    175\u001b[0m \u001b[38;5;124;03m        `xxh3_64, xxh_64, blake2b, sha256`\u001b[39;00m\n\u001b[1;32m    176\u001b[0m \u001b[38;5;124;03m    \"\"\"\u001b[39;00m\n\u001b[0;32m--> 178\u001b[0m     \u001b[38;5;28;01mdef\u001b[39;00m\u001b[38;5;250m \u001b[39m\u001b[38;5;21m__array_finalize__\u001b[39m(\u001b[38;5;28mself\u001b[39m, obj):\n\u001b[1;32m    179\u001b[0m \u001b[38;5;250m        \u001b[39m\u001b[38;5;124;03m\"\"\"\u001b[39;00m\n\u001b[1;32m    180\u001b[0m \u001b[38;5;124;03m        Sets a modified flag on every TrackedArray\u001b[39;00m\n\u001b[1;32m    181\u001b[0m \u001b[38;5;124;03m        This flag will be set on every change as well as\u001b[39;00m\n\u001b[1;32m    182\u001b[0m \u001b[38;5;124;03m        during copies and certain types of slicing.\u001b[39;00m\n\u001b[1;32m    183\u001b[0m \u001b[38;5;124;03m        \"\"\"\u001b[39;00m\n\u001b[1;32m    185\u001b[0m         \u001b[38;5;28mself\u001b[39m\u001b[38;5;241m.\u001b[39m_dirty_hash \u001b[38;5;241m=\u001b[39m \u001b[38;5;28;01mTrue\u001b[39;00m\n",
      "\u001b[0;31mKeyboardInterrupt\u001b[0m: "
     ]
    }
   ],
   "source": [
    "# Load original dataset\n",
    "with open(ORIGINAL_JSON, 'r') as f:\n",
    "    original_data = json.load(f)\n",
    "\n",
    "augmented_data = []\n",
    "\n",
    "for sample in tqdm(original_data, desc=\"Augmenting dataset\"):\n",
    "    model_id = sample[\"model_id\"]\n",
    "    mesh_path = os.path.join(MESH_DIR, model_id + \".ply\")\n",
    "    \n",
    "    if not os.path.exists(mesh_path):\n",
    "        print(f\"Mesh {mesh_path} not found, skipping.\")\n",
    "        continue\n",
    "    \n",
    "    mesh = trimesh.load(mesh_path, force='mesh')\n",
    "    if mesh.is_empty or len(mesh.faces) == 0:\n",
    "        print(f\"Mesh {model_id} is empty, skipping.\")\n",
    "        continue\n",
    "\n",
    "    # Original keypoints\n",
    "    keypoints = np.array([kp[\"xyz\"] for kp in sample[\"keypoints\"]])\n",
    "    \n",
    "    # Create multiple augmentations for each sample\n",
    "    for aug_id in range(NUM_AUGMENTATIONS):\n",
    "        points, _ = trimesh.sample.sample_surface(mesh, NUM_POINTS)\n",
    "\n",
    "        # --- Apply augmentation --- #\n",
    "        # 1. Random Z rotation\n",
    "        theta = np.random.uniform(0, 2*np.pi)\n",
    "        cos_theta, sin_theta = np.cos(theta), np.sin(theta)\n",
    "        Rz = np.array([[cos_theta, -sin_theta, 0],\n",
    "                       [sin_theta,  cos_theta, 0],\n",
    "                       [0, 0, 1]])\n",
    "        points = points @ Rz.T\n",
    "        keypoints_aug = keypoints @ Rz.T\n",
    "\n",
    "        # 2. Uniform scaling (90% to 110%)\n",
    "        scale = np.random.uniform(0.9, 1.1)\n",
    "        points *= scale\n",
    "        keypoints_aug *= scale\n",
    "\n",
    "        # 3. XY translation (±0.05 shift)\n",
    "        shift_xy = np.random.uniform(-0.05, 0.05, size=(1, 2))\n",
    "        points[:, :2] += shift_xy\n",
    "        keypoints_aug[:, :2] += shift_xy\n",
    "\n",
    "        # 4. Point jitter (Gaussian noise, very small)\n",
    "        jitter = np.random.normal(0, 0.005, size=points.shape)\n",
    "        points += jitter\n",
    "\n",
    "        # Save new augmented sample (keypoints only; mesh stays unchanged)\n",
    "        new_sample = {\n",
    "            \"model_id\": f\"{model_id}_aug_{aug_id}\",\n",
    "            \"keypoints\": [\n",
    "                {\"semantic_id\": kp[\"semantic_id\"], \"xyz\": xyz.tolist()}\n",
    "                for kp, xyz in zip(sample[\"keypoints\"], keypoints_aug)\n",
    "            ]\n",
    "        }\n",
    "        augmented_data.append(new_sample)\n",
    "\n"
   ]
  },
  {
   "cell_type": "code",
   "execution_count": 5,
   "id": "6d1261a8",
   "metadata": {},
   "outputs": [
    {
     "name": "stdout",
     "output_type": "stream",
     "text": [
      "Augmented dataset saved to guitar_augmented.json. Total samples: 4182\n"
     ]
    }
   ],
   "source": [
    "# Merge original + augmented samples\n",
    "full_dataset = original_data + augmented_data\n",
    "\n",
    "# Save to new JSON file\n",
    "with open(OUTPUT_JSON, \"w\") as f:\n",
    "    json.dump(full_dataset, f, indent=2)\n",
    "\n",
    "print(f\"Augmented dataset saved to {OUTPUT_JSON}. Total samples: {len(full_dataset)}\")\n"
   ]
  },
  {
   "cell_type": "code",
   "execution_count": null,
   "id": "60c00db5",
   "metadata": {},
   "outputs": [],
   "source": []
  },
  {
   "cell_type": "code",
   "execution_count": 4,
   "metadata": {},
   "outputs": [],
   "source": [
    "# Config\n",
    "ORIGINAL_JSON = \"guitar_train.json\"\n",
    "MESH_DIR = \"Guitars/9_points\"\n",
    "OUTPUT_JSON = \"guitar_9_train_augmented.json\"\n",
    "OUTPUT_MESH_DIR = \"Guitars/9_Train_Augmented/\"\n",
    "NUM_AUGMENTATIONS = 4  # How many times to augment each sample"
   ]
  },
  {
   "cell_type": "code",
   "execution_count": 5,
   "id": "062d9429",
   "metadata": {},
   "outputs": [],
   "source": [
    "# Create output directory for augmented meshes\n",
    "os.makedirs(OUTPUT_MESH_DIR, exist_ok=True)\n",
    "\n",
    "# Load original dataset\n",
    "with open(ORIGINAL_JSON, 'r') as f:\n",
    "    original_data = json.load(f)"
   ]
  },
  {
   "cell_type": "code",
   "execution_count": 6,
   "id": "3eca2023",
   "metadata": {},
   "outputs": [
    {
     "name": "stderr",
     "output_type": "stream",
     "text": [
      "Augmenting dataset with meshes: 100%|██████████| 469/469 [01:21<00:00,  5.78it/s]\n"
     ]
    }
   ],
   "source": [
    "augmented_data = []\n",
    "\n",
    "for sample in tqdm(original_data, desc=\"Augmenting dataset with meshes\"):\n",
    "    model_id = sample[\"model_id\"]\n",
    "    mesh_path = os.path.join(MESH_DIR, model_id + \".ply\")\n",
    "\n",
    "    if not os.path.exists(mesh_path):\n",
    "        print(f\"Mesh {mesh_path} not found, skipping.\")\n",
    "        continue\n",
    "\n",
    "    mesh = trimesh.load(mesh_path, force='mesh')\n",
    "    if mesh.is_empty or len(mesh.faces) == 0:\n",
    "        print(f\"Mesh {model_id} is empty, skipping.\")\n",
    "        continue\n",
    "\n",
    "    vertices = mesh.vertices\n",
    "    faces = mesh.faces\n",
    "\n",
    "    keypoints = np.array([kp[\"xyz\"] for kp in sample[\"keypoints\"]])\n",
    "\n",
    "    for aug_id in range(NUM_AUGMENTATIONS):\n",
    "        # 1. Random Z rotation\n",
    "        theta = np.random.uniform(0, 2*np.pi)\n",
    "        cos_theta, sin_theta = np.cos(theta), np.sin(theta)\n",
    "        Rz = np.array([[cos_theta, -sin_theta, 0],\n",
    "                       [sin_theta,  cos_theta, 0],\n",
    "                       [0, 0, 1]])\n",
    "        vertices_aug = vertices @ Rz.T\n",
    "        keypoints_aug = keypoints @ Rz.T\n",
    "\n",
    "        # 2. Uniform scaling\n",
    "        scale = np.random.uniform(0.9, 1.1)\n",
    "        vertices_aug *= scale\n",
    "        keypoints_aug *= scale\n",
    "\n",
    "        # 3. XY translation\n",
    "        shift_xy = np.random.uniform(-0.05, 0.05, size=(1, 2))\n",
    "        vertices_aug[:, :2] += shift_xy\n",
    "        keypoints_aug[:, :2] += shift_xy\n",
    "\n",
    "        # Save augmented mesh\n",
    "        augmented_mesh = trimesh.Trimesh(vertices=vertices_aug, faces=faces, process=False)\n",
    "        augmented_mesh_filename = f\"{model_id}_aug_{aug_id}.ply\"\n",
    "        augmented_mesh.export(os.path.join(OUTPUT_MESH_DIR, augmented_mesh_filename))\n",
    "\n",
    "        # Save augmented keypoints\n",
    "        new_sample = {\n",
    "            \"model_id\": f\"{model_id}_aug_{aug_id}\",\n",
    "            \"keypoints\": [\n",
    "                {\"semantic_id\": kp[\"semantic_id\"], \"xyz\": xyz.tolist()}\n",
    "                for kp, xyz in zip(sample[\"keypoints\"], keypoints_aug)\n",
    "            ]\n",
    "        }\n",
    "        augmented_data.append(new_sample)\n",
    "\n",
    "# Merge original + augmented samples\n",
    "full_dataset = original_data + augmented_data\n",
    "\n"
   ]
  },
  {
   "cell_type": "code",
   "execution_count": 7,
   "id": "8a4dbd78",
   "metadata": {},
   "outputs": [
    {
     "name": "stdout",
     "output_type": "stream",
     "text": [
      "Augmented dataset with meshes saved to guitar_9_train_augmented.json. Total samples: 2345\n"
     ]
    }
   ],
   "source": [
    "# Save to new JSON file\n",
    "with open(OUTPUT_JSON, \"w\") as f:\n",
    "    json.dump(full_dataset, f, indent=2)\n",
    "\n",
    "print(f\"Augmented dataset with meshes saved to {OUTPUT_JSON}. Total samples: {len(full_dataset)}\")\n"
   ]
  },
  {
   "cell_type": "code",
   "execution_count": null,
   "id": "10b8fa99",
   "metadata": {},
   "outputs": [],
   "source": []
  }
 ],
 "metadata": {
  "kernelspec": {
   "display_name": "pointnet_env",
   "language": "python",
   "name": "python3"
  },
  "language_info": {
   "codemirror_mode": {
    "name": "ipython",
    "version": 3
   },
   "file_extension": ".py",
   "mimetype": "text/x-python",
   "name": "python",
   "nbconvert_exporter": "python",
   "pygments_lexer": "ipython3",
   "version": "3.10.12"
  }
 },
 "nbformat": 4,
 "nbformat_minor": 5
}
