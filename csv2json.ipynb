{
 "cells": [
  {
   "cell_type": "code",
   "execution_count": 1,
   "id": "e112798e",
   "metadata": {},
   "outputs": [],
   "source": [
    "import pandas as pd\n",
    "import json"
   ]
  },
  {
   "cell_type": "code",
   "execution_count": 4,
   "id": "7e3ea13b",
   "metadata": {},
   "outputs": [
    {
     "data": {
      "text/plain": [
       "92"
      ]
     },
     "execution_count": 4,
     "metadata": {},
     "output_type": "execute_result"
    }
   ],
   "source": [
    "# Load the CSV file\n",
    "csv_path = \"wireframe.csv\"  # Update if using a different path\n",
    "df = pd.read_csv(csv_path)\n",
    "df.head()\n",
    "len(df)"
   ]
  },
  {
   "cell_type": "code",
   "execution_count": 5,
   "id": "270dc8f7",
   "metadata": {},
   "outputs": [],
   "source": [
    "converted_entries = []\n",
    "\n",
    "for _, row in df.iterrows():\n",
    "    model_id = str(row['order_scan'])  # This should match your STL filenames\n",
    "    try:\n",
    "        # Parse the orientation_nodes column (which is a JSON string)\n",
    "        kp_dict = json.loads(row['wireframe_orientation_nodes'])\n",
    "\n",
    "        # Convert each keypoint into {\"xyz\": [...]}, sorted by key like pos1, pos2, etc.\n",
    "        keypoints = [{\"xyz\": kp_dict[key]} for key in sorted(kp_dict.keys()) if key in [\"pos4\", \"pos5\"]] \n",
    "        #print(keypoints)\n",
    "\n",
    "        #break\n",
    "        # Append to final structure\n",
    "        converted_entries.append({\n",
    "            \"model_id\": model_id,\n",
    "            \"keypoints\": keypoints\n",
    "        })\n",
    "    except Exception as e:\n",
    "        print(f\"Error processing row {model_id}: {e}\")\n",
    "\n"
   ]
  },
  {
   "cell_type": "code",
   "execution_count": 6,
   "id": "717bb6ec",
   "metadata": {},
   "outputs": [
    {
     "name": "stdout",
     "output_type": "stream",
     "text": [
      "Converted keypoints saved to: knee_annotations/knee_points_4_5.json\n"
     ]
    }
   ],
   "source": [
    "# Save as JSON file\n",
    "output_path = \"knee_annotations/knee_points_4_5.json\"\n",
    "with open(output_path, \"w\") as f:\n",
    "    json.dump(converted_entries, f, indent=2)\n",
    "\n",
    "print(f\"Converted keypoints saved to: {output_path}\")\n"
   ]
  },
  {
   "cell_type": "code",
   "execution_count": null,
   "id": "80543bc7",
   "metadata": {},
   "outputs": [],
   "source": []
  }
 ],
 "metadata": {
  "kernelspec": {
   "display_name": "pointnet_env",
   "language": "python",
   "name": "python3"
  },
  "language_info": {
   "codemirror_mode": {
    "name": "ipython",
    "version": 3
   },
   "file_extension": ".py",
   "mimetype": "text/x-python",
   "name": "python",
   "nbconvert_exporter": "python",
   "pygments_lexer": "ipython3",
   "version": "3.10.12"
  }
 },
 "nbformat": 4,
 "nbformat_minor": 5
}
