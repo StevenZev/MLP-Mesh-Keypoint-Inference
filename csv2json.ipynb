{
 "cells": [
  {
   "cell_type": "code",
   "execution_count": 1,
   "id": "e112798e",
   "metadata": {},
   "outputs": [],
   "source": [
    "import pandas as pd\n",
    "import json"
   ]
  },
  {
   "cell_type": "code",
   "execution_count": 2,
   "id": "7e3ea13b",
   "metadata": {},
   "outputs": [
    {
     "data": {
      "text/html": [
       "<div>\n",
       "<style scoped>\n",
       "    .dataframe tbody tr th:only-of-type {\n",
       "        vertical-align: middle;\n",
       "    }\n",
       "\n",
       "    .dataframe tbody tr th {\n",
       "        vertical-align: top;\n",
       "    }\n",
       "\n",
       "    .dataframe thead th {\n",
       "        text-align: right;\n",
       "    }\n",
       "</style>\n",
       "<table border=\"1\" class=\"dataframe\">\n",
       "  <thead>\n",
       "    <tr style=\"text-align: right;\">\n",
       "      <th></th>\n",
       "      <th>order_id</th>\n",
       "      <th>order_scan</th>\n",
       "      <th>wireframe_orientation_nodes</th>\n",
       "      <th>wireframe_transform</th>\n",
       "    </tr>\n",
       "  </thead>\n",
       "  <tbody>\n",
       "    <tr>\n",
       "      <th>0</th>\n",
       "      <td>24604</td>\n",
       "      <td>12216</td>\n",
       "      <td>{\"pos1\":[0.030134250521854256,0.32776189620855...</td>\n",
       "      <td>{\"translation\":[-0.022518983110785484,0.343454...</td>\n",
       "    </tr>\n",
       "    <tr>\n",
       "      <th>1</th>\n",
       "      <td>24610</td>\n",
       "      <td>12212</td>\n",
       "      <td>{\"pos1\":[0.06170418871628969,0.374077705148096...</td>\n",
       "      <td>{\"translation\":[0.02233039401471615,0.32055920...</td>\n",
       "    </tr>\n",
       "    <tr>\n",
       "      <th>2</th>\n",
       "      <td>24620</td>\n",
       "      <td>12201</td>\n",
       "      <td>{\"pos1\":[-0.3830777743836391,0.120290552191810...</td>\n",
       "      <td>{\"translation\":[-0.3363723158836365,0.10395961...</td>\n",
       "    </tr>\n",
       "    <tr>\n",
       "      <th>3</th>\n",
       "      <td>24623</td>\n",
       "      <td>12221</td>\n",
       "      <td>{\"pos1\":[0.08421195226805978,0.739592187721076...</td>\n",
       "      <td>{\"translation\":[0.01877458021044731,0.75021773...</td>\n",
       "    </tr>\n",
       "    <tr>\n",
       "      <th>4</th>\n",
       "      <td>24300</td>\n",
       "      <td>11896</td>\n",
       "      <td>{\"pos1\":[-0.06162077267965671,0.26415759435593...</td>\n",
       "      <td>{\"translation\":[-0.007143142633140087,0.297632...</td>\n",
       "    </tr>\n",
       "  </tbody>\n",
       "</table>\n",
       "</div>"
      ],
      "text/plain": [
       "   order_id  order_scan                        wireframe_orientation_nodes  \\\n",
       "0     24604       12216  {\"pos1\":[0.030134250521854256,0.32776189620855...   \n",
       "1     24610       12212  {\"pos1\":[0.06170418871628969,0.374077705148096...   \n",
       "2     24620       12201  {\"pos1\":[-0.3830777743836391,0.120290552191810...   \n",
       "3     24623       12221  {\"pos1\":[0.08421195226805978,0.739592187721076...   \n",
       "4     24300       11896  {\"pos1\":[-0.06162077267965671,0.26415759435593...   \n",
       "\n",
       "                                 wireframe_transform  \n",
       "0  {\"translation\":[-0.022518983110785484,0.343454...  \n",
       "1  {\"translation\":[0.02233039401471615,0.32055920...  \n",
       "2  {\"translation\":[-0.3363723158836365,0.10395961...  \n",
       "3  {\"translation\":[0.01877458021044731,0.75021773...  \n",
       "4  {\"translation\":[-0.007143142633140087,0.297632...  "
      ]
     },
     "execution_count": 2,
     "metadata": {},
     "output_type": "execute_result"
    }
   ],
   "source": [
    "# Load the CSV file\n",
    "csv_path = \"wireframe.csv\"  # Update if using a different path\n",
    "df = pd.read_csv(csv_path)\n",
    "df.head()"
   ]
  },
  {
   "cell_type": "code",
   "execution_count": 11,
   "id": "270dc8f7",
   "metadata": {},
   "outputs": [],
   "source": [
    "converted_entries = []\n",
    "\n",
    "for _, row in df.iterrows():\n",
    "    model_id = str(row['order_scan'])  # This should match your STL filenames\n",
    "    try:\n",
    "        # Parse the orientation_nodes column (which is a JSON string)\n",
    "        kp_dict = json.loads(row['wireframe_orientation_nodes'])\n",
    "\n",
    "        # Convert each keypoint into {\"xyz\": [...]}, sorted by key like pos1, pos2, etc.\n",
    "        keypoints = [{\"xyz\": kp_dict[key]} for key in sorted(kp_dict.keys()) if key in [\"pos4\", \"pos5\"]] \n",
    "        #print(keypoints)\n",
    "\n",
    "        #break\n",
    "        # Append to final structure\n",
    "        converted_entries.append({\n",
    "            \"model_id\": model_id,\n",
    "            \"keypoints\": keypoints\n",
    "        })\n",
    "    except Exception as e:\n",
    "        print(f\"Error processing row {model_id}: {e}\")\n",
    "\n"
   ]
  },
  {
   "cell_type": "code",
   "execution_count": 12,
   "id": "717bb6ec",
   "metadata": {},
   "outputs": [
    {
     "name": "stdout",
     "output_type": "stream",
     "text": [
      "Converted keypoints saved to: knee_points_4_5.json\n"
     ]
    }
   ],
   "source": [
    "# Save as JSON file\n",
    "output_path = \"knee_points_4_5.json\"\n",
    "with open(output_path, \"w\") as f:\n",
    "    json.dump(converted_entries, f, indent=2)\n",
    "\n",
    "print(f\"Converted keypoints saved to: {output_path}\")\n"
   ]
  },
  {
   "cell_type": "code",
   "execution_count": null,
   "id": "80543bc7",
   "metadata": {},
   "outputs": [],
   "source": []
  }
 ],
 "metadata": {
  "kernelspec": {
   "display_name": "pointnet_env",
   "language": "python",
   "name": "python3"
  },
  "language_info": {
   "codemirror_mode": {
    "name": "ipython",
    "version": 3
   },
   "file_extension": ".py",
   "mimetype": "text/x-python",
   "name": "python",
   "nbconvert_exporter": "python",
   "pygments_lexer": "ipython3",
   "version": "3.10.12"
  }
 },
 "nbformat": 4,
 "nbformat_minor": 5
}
